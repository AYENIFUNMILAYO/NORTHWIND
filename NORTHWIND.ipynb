{
 "cells": [
  {
   "cell_type": "code",
   "execution_count": 3,
   "id": "0de8e0b5",
   "metadata": {},
   "outputs": [],
   "source": [
    "import geopandas as gpd\n",
    "import matplotlib.pyplot as plt\n",
    "import pycountry\n",
    "import psycopg2\n",
    "import pandas as pd\n",
    "import numpy as np\n",
    "import psycopg2.extras\n",
    "import pandas._testing as tm\n",
    "import seaborn as sns\n",
    "import matplotlib.pyplot as plt"
   ]
  },
  {
   "cell_type": "code",
   "execution_count": 4,
   "id": "0b8e5ebf",
   "metadata": {},
   "outputs": [],
   "source": [
    "from statsmodels.graphics.gofplots import qqplot\n",
    "from scipy.stats import shapiro\n",
    "from numpy.random import randn"
   ]
  },
  {
   "cell_type": "code",
   "execution_count": 5,
   "id": "e182260a",
   "metadata": {},
   "outputs": [],
   "source": [
    "sns.set_style('darkgrid')\n",
    "plt.rcParams['font.size'] = 15\n",
    "plt.rcParams['figure.figsize'] = (10, 7)\n",
    "plt.rcParams['figure.facecolor'] = '#FFE5B4'"
   ]
  },
  {
   "cell_type": "code",
   "execution_count": 6,
   "id": "00c5df4e",
   "metadata": {},
   "outputs": [],
   "source": [
    "con = psycopg2.connect(database=\"northwind\",\n",
    "               \n",
    "                       user ='postgres',\n",
    "                      password='olaronke',\n",
    "                      host = '127.0.0.1',\n",
    "                      port = '5432')"
   ]
  },
  {
   "cell_type": "code",
   "execution_count": 8,
   "id": "f04c3646",
   "metadata": {},
   "outputs": [],
   "source": [
    "##connecting to the cursor object\n",
    "cur = con.cursor(cursor_factory= psycopg2.extras.DictCursor)"
   ]
  },
  {
   "cell_type": "markdown",
   "id": "d5c9cabe",
   "metadata": {},
   "source": [
    "# In the cell bellow, we want to know the quantity of products that is sold in each country by an employee \n",
    "\n",
    "In the table bellow: i created a new cloumn called peresent date, using 1-1-2021 as the default date (note that northwind database was not released on 2021), this was done in other to derived the age and year of service of the employee.\n",
    "\n",
    "## data type error:\n",
    "1. Age\n",
    "2. service_year\n",
    "\n",
    "reason: years are surposed to be in data type int."
   ]
  },
  {
   "cell_type": "code",
   "execution_count": 9,
   "id": "9e283b4f",
   "metadata": {},
   "outputs": [],
   "source": [
    "## THE EMPLOYEE DATA THAT SHOWS THE AGE AND YEAR OF SERVICE WITHIN THE COMPLANY \n",
    "cur.execute(\"\"\"SELECT concat(employees.last_name, ' ', employees.first_name) as Full_name, \n",
    "date_part('year', age(employees.present_date::date, employees.birth_date::date)) AS Ages, \n",
    "date_part('year', age(employees.present_date::date, employees.hire_date::date)) AS service_year,\n",
    "sum(order_details.quantity) as sum_quantity, customers.country\n",
    "FROM employees\n",
    "JOIN orders ON orders.employee_id = employees.employee_id \n",
    "JOIN customers ON customers.customer_id = orders.customer_id\n",
    "JOIN order_details ON order_details.order_id = orders.order_id\n",
    "WHERE customers.country in ('USA','Portugal', 'Germany', 'Italy' )  \n",
    "GROUP by customers.country,Full_name, Ages,service_year\n",
    "ORDER BY sum_quantity \"\"\")\n",
    "\n",
    "\n",
    "\n",
    "\n",
    "EMPLOYEES_SALES= pd.DataFrame(cur.fetchall(), columns=[\"Full_name\",\"Ages\", \"service_year\", \"sum_quantity\", \"country\"  ])"
   ]
  },
  {
   "cell_type": "code",
   "execution_count": 10,
   "id": "4c4d07af",
   "metadata": {},
   "outputs": [
    {
     "data": {
      "text/html": [
       "<div>\n",
       "<style scoped>\n",
       "    .dataframe tbody tr th:only-of-type {\n",
       "        vertical-align: middle;\n",
       "    }\n",
       "\n",
       "    .dataframe tbody tr th {\n",
       "        vertical-align: top;\n",
       "    }\n",
       "\n",
       "    .dataframe thead th {\n",
       "        text-align: right;\n",
       "    }\n",
       "</style>\n",
       "<table border=\"1\" class=\"dataframe\">\n",
       "  <thead>\n",
       "    <tr style=\"text-align: right;\">\n",
       "      <th></th>\n",
       "      <th>Full_name</th>\n",
       "      <th>Ages</th>\n",
       "      <th>service_year</th>\n",
       "      <th>sum_quantity</th>\n",
       "      <th>country</th>\n",
       "    </tr>\n",
       "  </thead>\n",
       "  <tbody>\n",
       "    <tr>\n",
       "      <th>0</th>\n",
       "      <td>Dodsworth Anne</td>\n",
       "      <td>54.0</td>\n",
       "      <td>26.0</td>\n",
       "      <td>2</td>\n",
       "      <td>Portugal</td>\n",
       "    </tr>\n",
       "    <tr>\n",
       "      <th>1</th>\n",
       "      <td>Suyama Michael</td>\n",
       "      <td>57.0</td>\n",
       "      <td>27.0</td>\n",
       "      <td>3</td>\n",
       "      <td>Italy</td>\n",
       "    </tr>\n",
       "    <tr>\n",
       "      <th>2</th>\n",
       "      <td>Leverling Janet</td>\n",
       "      <td>57.0</td>\n",
       "      <td>28.0</td>\n",
       "      <td>9</td>\n",
       "      <td>Italy</td>\n",
       "    </tr>\n",
       "    <tr>\n",
       "      <th>3</th>\n",
       "      <td>King Robert</td>\n",
       "      <td>60.0</td>\n",
       "      <td>26.0</td>\n",
       "      <td>18</td>\n",
       "      <td>Portugal</td>\n",
       "    </tr>\n",
       "    <tr>\n",
       "      <th>4</th>\n",
       "      <td>Dodsworth Anne</td>\n",
       "      <td>54.0</td>\n",
       "      <td>26.0</td>\n",
       "      <td>32</td>\n",
       "      <td>Italy</td>\n",
       "    </tr>\n",
       "  </tbody>\n",
       "</table>\n",
       "</div>"
      ],
      "text/plain": [
       "         Full_name  Ages  service_year  sum_quantity   country\n",
       "0   Dodsworth Anne  54.0          26.0             2  Portugal\n",
       "1   Suyama Michael  57.0          27.0             3     Italy\n",
       "2  Leverling Janet  57.0          28.0             9     Italy\n",
       "3      King Robert  60.0          26.0            18  Portugal\n",
       "4   Dodsworth Anne  54.0          26.0            32     Italy"
      ]
     },
     "execution_count": 10,
     "metadata": {},
     "output_type": "execute_result"
    }
   ],
   "source": [
    "EMPLOYEES_SALES.head()"
   ]
  },
  {
   "cell_type": "code",
   "execution_count": 11,
   "id": "96a58e19",
   "metadata": {},
   "outputs": [
    {
     "data": {
      "text/plain": [
       "Italy       9\n",
       "Germany     9\n",
       "USA         9\n",
       "Portugal    7\n",
       "Name: country, dtype: int64"
      ]
     },
     "execution_count": 11,
     "metadata": {},
     "output_type": "execute_result"
    }
   ],
   "source": [
    "EMPLOYEES_SALES['country'].value_counts()"
   ]
  },
  {
   "cell_type": "code",
   "execution_count": 12,
   "id": "dc22a5e4",
   "metadata": {},
   "outputs": [
    {
     "name": "stdout",
     "output_type": "stream",
     "text": [
      "<class 'pandas.core.frame.DataFrame'>\n",
      "RangeIndex: 34 entries, 0 to 33\n",
      "Data columns (total 5 columns):\n",
      " #   Column        Non-Null Count  Dtype  \n",
      "---  ------        --------------  -----  \n",
      " 0   Full_name     34 non-null     object \n",
      " 1   Ages          34 non-null     float64\n",
      " 2   service_year  34 non-null     float64\n",
      " 3   sum_quantity  34 non-null     int64  \n",
      " 4   country       34 non-null     object \n",
      "dtypes: float64(2), int64(1), object(2)\n",
      "memory usage: 1.5+ KB\n"
     ]
    }
   ],
   "source": [
    "EMPLOYEES_SALES.info()"
   ]
  },
  {
   "cell_type": "code",
   "execution_count": 16,
   "id": "b4396b81",
   "metadata": {},
   "outputs": [
    {
     "data": {
      "image/png": "[encoded data removed]",
      "text/plain": [
       "<Figure size 1000x700 with 1 Axes>"
      ]
     },
     "metadata": {},
     "output_type": "display_data"
    }
   ],
   "source": [
    "EMPLOYEE_CHAT = EMPLOYEES_SALES.plot.bar(y =\"sum_quantity\", x = \"country\", title = \"SALES OF PRODUCTS OF PRODUCT BY EMPLOYEES\")"
   ]
  },
  {
   "cell_type": "code",
   "execution_count": null,
   "id": "8403569a",
   "metadata": {},
   "outputs": [],
   "source": []
  },
  {
   "cell_type": "code",
   "execution_count": null,
   "id": "eacf634c",
   "metadata": {},
   "outputs": [],
   "source": []
  },
  {
   "cell_type": "code",
   "execution_count": null,
   "id": "45bd23e8",
   "metadata": {},
   "outputs": [],
   "source": []
  },
  {
   "cell_type": "code",
   "execution_count": null,
   "id": "fb2e5735",
   "metadata": {},
   "outputs": [],
   "source": []
  },
  {
   "cell_type": "code",
   "execution_count": null,
   "id": "251af18c",
   "metadata": {},
   "outputs": [],
   "source": []
  },
  {
   "cell_type": "code",
   "execution_count": null,
   "id": "a002130b",
   "metadata": {},
   "outputs": [],
   "source": []
  },
  {
   "cell_type": "code",
   "execution_count": null,
   "id": "cd3621b6",
   "metadata": {},
   "outputs": [],
   "source": []
  }
 ],
 "metadata": {
  "kernelspec": {
   "display_name": "Python 3 (ipykernel)",
   "language": "python",
   "name": "python3"
  },
  "language_info": {
   "codemirror_mode": {
    "name": "ipython",
    "version": 3
   },
   "file_extension": ".py",
   "mimetype": "text/x-python",
   "name": "python",
   "nbconvert_exporter": "python",
   "pygments_lexer": "ipython3",
   "version": "3.10.9"
  }
 },
 "nbformat": 4,
 "nbformat_minor": 5
}
